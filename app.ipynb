{
 "cells": [
  {
   "cell_type": "code",
   "execution_count": null,
   "metadata": {},
   "outputs": [
    {
     "name": "stdout",
     "output_type": "stream",
     "text": [
      "Servidor corriendo en puerto 4500, sirviendo c:\\Users\\IPF-2025\\Desktop\\repos\\TLP-Python para Ciencia de datos\\python\\practica\\TP-operaciones-de-matrices\\mi_archivo.html\n"
     ]
    },
    {
     "name": "stderr",
     "output_type": "stream",
     "text": [
      "127.0.0.1 - - [01/Apr/2025 16:09:10] \"GET / HTTP/1.1\" 200 -\n",
      "127.0.0.1 - - [01/Apr/2025 16:09:10] code 404, message File not found\n",
      "127.0.0.1 - - [01/Apr/2025 16:09:10] \"GET /favicon.ico HTTP/1.1\" 404 -\n"
     ]
    }
   ],
   "source": [
    "import http.server  \n",
    "import socketserver  \n",
    "import os  \n",
    "\n",
    "class CustomHandler(http.server.SimpleHTTPRequestHandler):  \n",
    "    def do_GET(self):  \n",
    "        # Cambia 'mi_archivo.html' por el archivo que deseas servir  \n",
    "        if self.path == '/':  \n",
    "            self.path = '/public/index.html'  # El archivo que quieres servir  \n",
    "        return http.server.SimpleHTTPRequestHandler.do_GET(self)  \n",
    "\n",
    "# Define un puerto  \n",
    "PORT = 4500  \n",
    "\n",
    "# Crea un servidor con el manejador personalizado  \n",
    "with socketserver.TCPServer((\"\", PORT), CustomHandler) as httpd:  \n",
    "    print(f\"Servidor corriendo en puerto {PORT}, sirviendo {os.path.abspath('mi_archivo.html')}\")  \n",
    "    httpd.serve_forever()  "
   ]
  }
 ],
 "metadata": {
  "kernelspec": {
   "display_name": "Python 3",
   "language": "python",
   "name": "python3"
  },
  "language_info": {
   "codemirror_mode": {
    "name": "ipython",
    "version": 3
   },
   "file_extension": ".py",
   "mimetype": "text/x-python",
   "name": "python",
   "nbconvert_exporter": "python",
   "pygments_lexer": "ipython3",
   "version": "3.12.9"
  }
 },
 "nbformat": 4,
 "nbformat_minor": 2
}
